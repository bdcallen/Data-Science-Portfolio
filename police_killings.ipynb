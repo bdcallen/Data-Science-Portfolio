{
 "cells": [
  {
   "cell_type": "markdown",
   "metadata": {},
   "source": [
    "This was originally a guided project that I did through the courses on dataquest.io. Here, I analyse data on police killings collected by FiveThirtyEight, and the data set can be found at https://github.com/fivethirtyeight/data/tree/master/police-killings. In the analysis, data on state populations from https://www.census.gov/popest/data/state/asrh/2015/SCPRC-EST2015-18+POP-RES.html is also included. In this project, I use Python and the pandas, numpy and matplotlib packages."
   ]
  },
  {
   "cell_type": "code",
   "execution_count": 3,
   "metadata": {
    "collapsed": false
   },
   "outputs": [
    {
     "name": "stdout",
     "output_type": "stream",
     "text": [
      "Index([                u'name',                  u'age',\n",
      "                     u'gender',        u'raceethnicity',\n",
      "                      u'month',                  u'day',\n",
      "                       u'year',        u'streetaddress',\n",
      "                       u'city',                u'state',\n",
      "                   u'latitude',            u'longitude',\n",
      "                   u'state_fp',            u'county_fp',\n",
      "                   u'tract_ce',               u'geo_id',\n",
      "                  u'county_id',             u'namelsad',\n",
      "       u'lawenforcementagency',                u'cause',\n",
      "                      u'armed',                  u'pop',\n",
      "                u'share_white',          u'share_black',\n",
      "             u'share_hispanic',             u'p_income',\n",
      "                   u'h_income',        u'county_income',\n",
      "                u'comp_income',        u'county_bucket',\n",
      "                 u'nat_bucket',                  u'pov',\n",
      "                      u'urate',              u'college'],\n",
      "      dtype='object')\n",
      "name                     object\n",
      "age                      object\n",
      "gender                   object\n",
      "raceethnicity            object\n",
      "month                    object\n",
      "day                       int64\n",
      "year                      int64\n",
      "streetaddress            object\n",
      "city                     object\n",
      "state                    object\n",
      "latitude                float64\n",
      "longitude               float64\n",
      "state_fp                  int64\n",
      "county_fp                 int64\n",
      "tract_ce                  int64\n",
      "geo_id                    int64\n",
      "county_id                 int64\n",
      "namelsad                 object\n",
      "lawenforcementagency     object\n",
      "cause                    object\n",
      "armed                    object\n",
      "pop                       int64\n",
      "share_white              object\n",
      "share_black              object\n",
      "share_hispanic           object\n",
      "p_income                 object\n",
      "h_income                float64\n",
      "county_income             int64\n",
      "comp_income             float64\n",
      "county_bucket           float64\n",
      "nat_bucket              float64\n",
      "pov                      object\n",
      "urate                   float64\n",
      "college                 float64\n",
      "dtype: object\n"
     ]
    },
    {
     "data": {
      "text/html": [
       "<div>\n",
       "<table border=\"1\" class=\"dataframe\">\n",
       "  <thead>\n",
       "    <tr style=\"text-align: right;\">\n",
       "      <th></th>\n",
       "      <th>name</th>\n",
       "      <th>age</th>\n",
       "      <th>gender</th>\n",
       "      <th>raceethnicity</th>\n",
       "      <th>month</th>\n",
       "      <th>day</th>\n",
       "      <th>year</th>\n",
       "      <th>streetaddress</th>\n",
       "      <th>city</th>\n",
       "      <th>state</th>\n",
       "      <th>...</th>\n",
       "      <th>share_hispanic</th>\n",
       "      <th>p_income</th>\n",
       "      <th>h_income</th>\n",
       "      <th>county_income</th>\n",
       "      <th>comp_income</th>\n",
       "      <th>county_bucket</th>\n",
       "      <th>nat_bucket</th>\n",
       "      <th>pov</th>\n",
       "      <th>urate</th>\n",
       "      <th>college</th>\n",
       "    </tr>\n",
       "  </thead>\n",
       "  <tbody>\n",
       "    <tr>\n",
       "      <th>0</th>\n",
       "      <td>A'donte Washington</td>\n",
       "      <td>16</td>\n",
       "      <td>Male</td>\n",
       "      <td>Black</td>\n",
       "      <td>February</td>\n",
       "      <td>23</td>\n",
       "      <td>2015</td>\n",
       "      <td>Clearview Ln</td>\n",
       "      <td>Millbrook</td>\n",
       "      <td>AL</td>\n",
       "      <td>...</td>\n",
       "      <td>5.6</td>\n",
       "      <td>28375</td>\n",
       "      <td>51367</td>\n",
       "      <td>54766</td>\n",
       "      <td>0.937936</td>\n",
       "      <td>3</td>\n",
       "      <td>3</td>\n",
       "      <td>14.1</td>\n",
       "      <td>0.097686</td>\n",
       "      <td>0.168510</td>\n",
       "    </tr>\n",
       "    <tr>\n",
       "      <th>1</th>\n",
       "      <td>Aaron Rutledge</td>\n",
       "      <td>27</td>\n",
       "      <td>Male</td>\n",
       "      <td>White</td>\n",
       "      <td>April</td>\n",
       "      <td>2</td>\n",
       "      <td>2015</td>\n",
       "      <td>300 block Iris Park Dr</td>\n",
       "      <td>Pineville</td>\n",
       "      <td>LA</td>\n",
       "      <td>...</td>\n",
       "      <td>0.5</td>\n",
       "      <td>14678</td>\n",
       "      <td>27972</td>\n",
       "      <td>40930</td>\n",
       "      <td>0.683411</td>\n",
       "      <td>2</td>\n",
       "      <td>1</td>\n",
       "      <td>28.8</td>\n",
       "      <td>0.065724</td>\n",
       "      <td>0.111402</td>\n",
       "    </tr>\n",
       "    <tr>\n",
       "      <th>2</th>\n",
       "      <td>Aaron Siler</td>\n",
       "      <td>26</td>\n",
       "      <td>Male</td>\n",
       "      <td>White</td>\n",
       "      <td>March</td>\n",
       "      <td>14</td>\n",
       "      <td>2015</td>\n",
       "      <td>22nd Ave and 56th St</td>\n",
       "      <td>Kenosha</td>\n",
       "      <td>WI</td>\n",
       "      <td>...</td>\n",
       "      <td>16.8</td>\n",
       "      <td>25286</td>\n",
       "      <td>45365</td>\n",
       "      <td>54930</td>\n",
       "      <td>0.825869</td>\n",
       "      <td>2</td>\n",
       "      <td>3</td>\n",
       "      <td>14.6</td>\n",
       "      <td>0.166293</td>\n",
       "      <td>0.147312</td>\n",
       "    </tr>\n",
       "    <tr>\n",
       "      <th>3</th>\n",
       "      <td>Aaron Valdez</td>\n",
       "      <td>25</td>\n",
       "      <td>Male</td>\n",
       "      <td>Hispanic/Latino</td>\n",
       "      <td>March</td>\n",
       "      <td>11</td>\n",
       "      <td>2015</td>\n",
       "      <td>3000 Seminole Ave</td>\n",
       "      <td>South Gate</td>\n",
       "      <td>CA</td>\n",
       "      <td>...</td>\n",
       "      <td>98.8</td>\n",
       "      <td>17194</td>\n",
       "      <td>48295</td>\n",
       "      <td>55909</td>\n",
       "      <td>0.863814</td>\n",
       "      <td>3</td>\n",
       "      <td>3</td>\n",
       "      <td>11.7</td>\n",
       "      <td>0.124827</td>\n",
       "      <td>0.050133</td>\n",
       "    </tr>\n",
       "    <tr>\n",
       "      <th>4</th>\n",
       "      <td>Adam Jovicic</td>\n",
       "      <td>29</td>\n",
       "      <td>Male</td>\n",
       "      <td>White</td>\n",
       "      <td>March</td>\n",
       "      <td>19</td>\n",
       "      <td>2015</td>\n",
       "      <td>364 Hiwood Ave</td>\n",
       "      <td>Munroe Falls</td>\n",
       "      <td>OH</td>\n",
       "      <td>...</td>\n",
       "      <td>1.7</td>\n",
       "      <td>33954</td>\n",
       "      <td>68785</td>\n",
       "      <td>49669</td>\n",
       "      <td>1.384868</td>\n",
       "      <td>5</td>\n",
       "      <td>4</td>\n",
       "      <td>1.9</td>\n",
       "      <td>0.063550</td>\n",
       "      <td>0.403954</td>\n",
       "    </tr>\n",
       "    <tr>\n",
       "      <th>5</th>\n",
       "      <td>Adam Reinhart</td>\n",
       "      <td>29</td>\n",
       "      <td>Male</td>\n",
       "      <td>White</td>\n",
       "      <td>March</td>\n",
       "      <td>7</td>\n",
       "      <td>2015</td>\n",
       "      <td>18th St and Palm Ln</td>\n",
       "      <td>Phoenix</td>\n",
       "      <td>AZ</td>\n",
       "      <td>...</td>\n",
       "      <td>79</td>\n",
       "      <td>15523</td>\n",
       "      <td>20833</td>\n",
       "      <td>53596</td>\n",
       "      <td>0.388704</td>\n",
       "      <td>1</td>\n",
       "      <td>1</td>\n",
       "      <td>58</td>\n",
       "      <td>0.073651</td>\n",
       "      <td>0.102955</td>\n",
       "    </tr>\n",
       "    <tr>\n",
       "      <th>6</th>\n",
       "      <td>Adrian Hernandez</td>\n",
       "      <td>22</td>\n",
       "      <td>Male</td>\n",
       "      <td>Hispanic/Latino</td>\n",
       "      <td>March</td>\n",
       "      <td>27</td>\n",
       "      <td>2015</td>\n",
       "      <td>4000 Union Ave</td>\n",
       "      <td>Bakersfield</td>\n",
       "      <td>CA</td>\n",
       "      <td>...</td>\n",
       "      <td>44.2</td>\n",
       "      <td>25949</td>\n",
       "      <td>58068</td>\n",
       "      <td>48552</td>\n",
       "      <td>1.195996</td>\n",
       "      <td>4</td>\n",
       "      <td>4</td>\n",
       "      <td>17.2</td>\n",
       "      <td>0.131461</td>\n",
       "      <td>0.203801</td>\n",
       "    </tr>\n",
       "    <tr>\n",
       "      <th>7</th>\n",
       "      <td>Adrian Solis</td>\n",
       "      <td>35</td>\n",
       "      <td>Male</td>\n",
       "      <td>Hispanic/Latino</td>\n",
       "      <td>March</td>\n",
       "      <td>26</td>\n",
       "      <td>2015</td>\n",
       "      <td>1500 Bayview Ave</td>\n",
       "      <td>Wilmington</td>\n",
       "      <td>CA</td>\n",
       "      <td>...</td>\n",
       "      <td>84.1</td>\n",
       "      <td>25043</td>\n",
       "      <td>66543</td>\n",
       "      <td>55909</td>\n",
       "      <td>1.190202</td>\n",
       "      <td>4</td>\n",
       "      <td>4</td>\n",
       "      <td>12.2</td>\n",
       "      <td>0.094347</td>\n",
       "      <td>0.090438</td>\n",
       "    </tr>\n",
       "    <tr>\n",
       "      <th>8</th>\n",
       "      <td>Alan Alverson</td>\n",
       "      <td>44</td>\n",
       "      <td>Male</td>\n",
       "      <td>White</td>\n",
       "      <td>January</td>\n",
       "      <td>28</td>\n",
       "      <td>2015</td>\n",
       "      <td>Pickett Runn Rd</td>\n",
       "      <td>Sunset</td>\n",
       "      <td>TX</td>\n",
       "      <td>...</td>\n",
       "      <td>66.3</td>\n",
       "      <td>16778</td>\n",
       "      <td>30391</td>\n",
       "      <td>38310</td>\n",
       "      <td>0.793292</td>\n",
       "      <td>2</td>\n",
       "      <td>1</td>\n",
       "      <td>37.7</td>\n",
       "      <td>0.140833</td>\n",
       "      <td>0.047601</td>\n",
       "    </tr>\n",
       "    <tr>\n",
       "      <th>9</th>\n",
       "      <td>Alan James</td>\n",
       "      <td>31</td>\n",
       "      <td>Male</td>\n",
       "      <td>White</td>\n",
       "      <td>February</td>\n",
       "      <td>7</td>\n",
       "      <td>2015</td>\n",
       "      <td>200 Abbie St SE</td>\n",
       "      <td>Wyoming</td>\n",
       "      <td>MI</td>\n",
       "      <td>...</td>\n",
       "      <td>26.5</td>\n",
       "      <td>22005</td>\n",
       "      <td>44553</td>\n",
       "      <td>51667</td>\n",
       "      <td>0.862311</td>\n",
       "      <td>3</td>\n",
       "      <td>2</td>\n",
       "      <td>18.4</td>\n",
       "      <td>0.174167</td>\n",
       "      <td>0.102692</td>\n",
       "    </tr>\n",
       "  </tbody>\n",
       "</table>\n",
       "<p>10 rows × 34 columns</p>\n",
       "</div>"
      ],
      "text/plain": [
       "                 name age gender    raceethnicity     month  day  year  \\\n",
       "0  A'donte Washington  16   Male            Black  February   23  2015   \n",
       "1      Aaron Rutledge  27   Male            White     April    2  2015   \n",
       "2         Aaron Siler  26   Male            White     March   14  2015   \n",
       "3        Aaron Valdez  25   Male  Hispanic/Latino     March   11  2015   \n",
       "4        Adam Jovicic  29   Male            White     March   19  2015   \n",
       "5       Adam Reinhart  29   Male            White     March    7  2015   \n",
       "6    Adrian Hernandez  22   Male  Hispanic/Latino     March   27  2015   \n",
       "7        Adrian Solis  35   Male  Hispanic/Latino     March   26  2015   \n",
       "8       Alan Alverson  44   Male            White   January   28  2015   \n",
       "9          Alan James  31   Male            White  February    7  2015   \n",
       "\n",
       "            streetaddress          city state    ...     share_hispanic  \\\n",
       "0            Clearview Ln     Millbrook    AL    ...                5.6   \n",
       "1  300 block Iris Park Dr     Pineville    LA    ...                0.5   \n",
       "2    22nd Ave and 56th St       Kenosha    WI    ...               16.8   \n",
       "3       3000 Seminole Ave    South Gate    CA    ...               98.8   \n",
       "4          364 Hiwood Ave  Munroe Falls    OH    ...                1.7   \n",
       "5     18th St and Palm Ln       Phoenix    AZ    ...                 79   \n",
       "6          4000 Union Ave   Bakersfield    CA    ...               44.2   \n",
       "7        1500 Bayview Ave    Wilmington    CA    ...               84.1   \n",
       "8         Pickett Runn Rd        Sunset    TX    ...               66.3   \n",
       "9         200 Abbie St SE       Wyoming    MI    ...               26.5   \n",
       "\n",
       "   p_income  h_income  county_income  comp_income  county_bucket  nat_bucket  \\\n",
       "0     28375     51367          54766     0.937936              3           3   \n",
       "1     14678     27972          40930     0.683411              2           1   \n",
       "2     25286     45365          54930     0.825869              2           3   \n",
       "3     17194     48295          55909     0.863814              3           3   \n",
       "4     33954     68785          49669     1.384868              5           4   \n",
       "5     15523     20833          53596     0.388704              1           1   \n",
       "6     25949     58068          48552     1.195996              4           4   \n",
       "7     25043     66543          55909     1.190202              4           4   \n",
       "8     16778     30391          38310     0.793292              2           1   \n",
       "9     22005     44553          51667     0.862311              3           2   \n",
       "\n",
       "    pov     urate   college  \n",
       "0  14.1  0.097686  0.168510  \n",
       "1  28.8  0.065724  0.111402  \n",
       "2  14.6  0.166293  0.147312  \n",
       "3  11.7  0.124827  0.050133  \n",
       "4   1.9  0.063550  0.403954  \n",
       "5    58  0.073651  0.102955  \n",
       "6  17.2  0.131461  0.203801  \n",
       "7  12.2  0.094347  0.090438  \n",
       "8  37.7  0.140833  0.047601  \n",
       "9  18.4  0.174167  0.102692  \n",
       "\n",
       "[10 rows x 34 columns]"
      ]
     },
     "execution_count": 3,
     "metadata": {},
     "output_type": "execute_result"
    }
   ],
   "source": [
    "import pandas as pd\n",
    "import numpy as np\n",
    "import matplotlib.pyplot as plt\n",
    "%matplotlib inline\n",
    "\n",
    "police_killings = pd.read_csv('police_killings.csv', encoding = 'ISO-8859-1')\n",
    "print(police_killings.columns)\n",
    "print(police_killings.dtypes)\n",
    "police_killings.head(10)\n"
   ]
  },
  {
   "cell_type": "code",
   "execution_count": 13,
   "metadata": {
    "collapsed": false
   },
   "outputs": [
    {
     "name": "stdout",
     "output_type": "stream",
     "text": [
      "White                     236\n",
      "Black                     135\n",
      "Hispanic/Latino            67\n",
      "Unknown                    15\n",
      "Asian/Pacific Islander     10\n",
      "Native American             4\n",
      "dtype: int64\n"
     ]
    }
   ],
   "source": [
    "race_counts = police_killings['raceethnicity'].value_counts()\n",
    "print(race_counts)"
   ]
  },
  {
   "cell_type": "code",
   "execution_count": 11,
   "metadata": {
    "collapsed": false
   },
   "outputs": [
    {
     "data": {
      "image/png": "[encoded data removed]",
      "text/plain": [
       "<matplotlib.figure.Figure at 0x7fc44aee4590>"
      ]
     },
     "metadata": {},
     "output_type": "display_data"
    }
   ],
   "source": [
    "ind = np.arange(1, 7)\n",
    "width = 0.35\n",
    "fig = plt.figure(figsize = (6, 6))\n",
    "ax = fig.add_subplot(1, 1, 1)\n",
    "ax.bar(ind, race_counts, width = 0.35, color='r')\n",
    "plt.xticks(ind, ['White', 'Black', 'Hispanic/Latino', 'Unknown', 'Asian/Pacific Islander', 'Native American'], rotation = 60)\n",
    "plt.title(\"Number of Police Killings by Race/Ethnicity\")\n",
    "plt.show()"
   ]
  },
  {
   "cell_type": "markdown",
   "metadata": {},
   "source": [
    "We get our figures for the breakdown of the US population by race/ethnicity from https://www.census.gov/quickfacts/table/PST045215/00. We store these percentages in the list race_perc."
   ]
  },
  {
   "cell_type": "code",
   "execution_count": 26,
   "metadata": {
    "collapsed": false
   },
   "outputs": [
    {
     "name": "stdout",
     "output_type": "stream",
     "text": [
      "White                     50.535332\n",
      "Black                     28.907923\n",
      "Hispanic/Latino           14.346895\n",
      "Unknown                    3.211991\n",
      "Asian/Pacific Islander     2.141328\n",
      "Native American            0.856531\n",
      "dtype: float64\n"
     ]
    }
   ],
   "source": [
    "pk_race_percentages = 100.00 * race_counts/race_counts.sum()\n",
    "race_perc = list([61.6, 13.3, 17.6, 0.5, 5.8, 1.2])\n",
    "\n",
    "print(pk_race_percentages)"
   ]
  },
  {
   "cell_type": "code",
   "execution_count": 27,
   "metadata": {
    "collapsed": false
   },
   "outputs": [
    {
     "data": {
      "image/png": "[encoded data removed]",
      "text/plain": [
       "<matplotlib.figure.Figure at 0x7fc44b112250>"
      ]
     },
     "metadata": {},
     "output_type": "display_data"
    }
   ],
   "source": [
    "ind = np.arange(1, 7)\n",
    "width = 0.35\n",
    "fig = plt.figure(figsize = (6, 6))\n",
    "ax = fig.add_subplot(1, 1, 1)\n",
    "ax.bar(ind, pk_race_percentages, width, color='r')\n",
    "ax.bar(ind+width, race_perc, width, color='b')\n",
    "plt.xticks(ind, ['White', 'Black', 'Hispanic/Latino', 'Unknown', 'Asian/Pacific Islander', 'Native American'], rotation = 45)\n",
    "plt.title(\"Percentage of Police Killings versus Percentage of US Population by Race/Ethnicity \", y = 1.05)\n",
    "plt.show()"
   ]
  },
  {
   "cell_type": "markdown",
   "metadata": {},
   "source": [
    "As is clear in the above plot, black people are very much overrepresented in the police killings data, while whites are somewhat underrepresented. "
   ]
  },
  {
   "cell_type": "markdown",
   "metadata": {},
   "source": [
    "Now let's turn our attention to police killings by income. The p_income column of the police_killings dataset is the median personal income by census area. Unfortunately, there is some missing data in this column, represented by the entry '-'. To analyse the income distribution, we will remove these entries. "
   ]
  },
  {
   "cell_type": "code",
   "execution_count": 28,
   "metadata": {
    "collapsed": true
   },
   "outputs": [],
   "source": [
    "income = police_killings['p_income'][police_killings['p_income'] != '-']"
   ]
  },
  {
   "cell_type": "code",
   "execution_count": 29,
   "metadata": {
    "collapsed": true
   },
   "outputs": [],
   "source": [
    "income = income.astype(float)"
   ]
  },
  {
   "cell_type": "code",
   "execution_count": 32,
   "metadata": {
    "collapsed": false
   },
   "outputs": [
    {
     "data": {
      "image/png": "[encoded data removed]",
      "text/plain": [
       "<matplotlib.figure.Figure at 0x7fc44acb9050>"
      ]
     },
     "metadata": {},
     "output_type": "display_data"
    }
   ],
   "source": [
    "income.hist(bins = 50)\n",
    "plt.title(\"Distribution of Median Personal Income by Census Area\", y = 1.05)\n",
    "plt.xlabel(\"Median Personal Income by Census Area\")\n",
    "plt.show()"
   ]
  },
  {
   "cell_type": "code",
   "execution_count": 33,
   "metadata": {
    "collapsed": false
   },
   "outputs": [
    {
     "data": {
      "text/plain": [
       "24308.96559139785"
      ]
     },
     "execution_count": 33,
     "metadata": {},
     "output_type": "execute_result"
    }
   ],
   "source": [
    "income.mean()"
   ]
  },
  {
   "cell_type": "code",
   "execution_count": 34,
   "metadata": {
    "collapsed": false
   },
   "outputs": [
    {
     "data": {
      "text/plain": [
       "22348.0"
      ]
     },
     "execution_count": 34,
     "metadata": {},
     "output_type": "execute_result"
    }
   ],
   "source": [
    "income.median()"
   ]
  },
  {
   "cell_type": "code",
   "execution_count": 35,
   "metadata": {
    "collapsed": false
   },
   "outputs": [
    {
     "data": {
      "text/plain": [
       "9021.77284376542"
      ]
     },
     "execution_count": 35,
     "metadata": {},
     "output_type": "execute_result"
    }
   ],
   "source": [
    "income.std()"
   ]
  },
  {
   "cell_type": "code",
   "execution_count": 38,
   "metadata": {
    "collapsed": false
   },
   "outputs": [
    {
     "data": {
      "text/plain": [
       "348"
      ]
     },
     "execution_count": 38,
     "metadata": {},
     "output_type": "execute_result"
    }
   ],
   "source": [
    "((income < (24308.965591397849 + 9021.7728437654187)) & (income > (24308.965591397849 - 9021.7728437654187))).sum()"
   ]
  },
  {
   "cell_type": "code",
   "execution_count": 39,
   "metadata": {
    "collapsed": false
   },
   "outputs": [
    {
     "data": {
      "text/plain": [
       "465"
      ]
     },
     "execution_count": 39,
     "metadata": {},
     "output_type": "execute_result"
    }
   ],
   "source": [
    "len(income)"
   ]
  },
  {
   "cell_type": "code",
   "execution_count": 40,
   "metadata": {
    "collapsed": false
   },
   "outputs": [
    {
     "data": {
      "text/plain": [
       "0.7483870967741936"
      ]
     },
     "execution_count": 40,
     "metadata": {},
     "output_type": "execute_result"
    }
   ],
   "source": [
    "348.0/465.0"
   ]
  },
  {
   "cell_type": "code",
   "execution_count": 41,
   "metadata": {
    "collapsed": false
   },
   "outputs": [
    {
     "data": {
      "text/plain": [
       "15287.19274763243"
      ]
     },
     "execution_count": 41,
     "metadata": {},
     "output_type": "execute_result"
    }
   ],
   "source": [
    "24308.965591397849 - 9021.7728437654187"
   ]
  },
  {
   "cell_type": "code",
   "execution_count": 42,
   "metadata": {
    "collapsed": false
   },
   "outputs": [
    {
     "data": {
      "text/plain": [
       "33330.738435163265"
      ]
     },
     "execution_count": 42,
     "metadata": {},
     "output_type": "execute_result"
    }
   ],
   "source": [
    "24308.965591397849 + 9021.7728437654187"
   ]
  },
  {
   "cell_type": "code",
   "execution_count": 44,
   "metadata": {
    "collapsed": false
   },
   "outputs": [
    {
     "data": {
      "text/plain": [
       "445"
      ]
     },
     "execution_count": 44,
     "metadata": {},
     "output_type": "execute_result"
    }
   ],
   "source": [
    "((income < (24308.965591397849 + 2 * 9021.7728437654187)) & (income > (24308.965591397849 - 2 * 9021.7728437654187))).sum()"
   ]
  },
  {
   "cell_type": "code",
   "execution_count": 45,
   "metadata": {
    "collapsed": false
   },
   "outputs": [
    {
     "data": {
      "text/plain": [
       "0.956989247311828"
      ]
     },
     "execution_count": 45,
     "metadata": {},
     "output_type": "execute_result"
    }
   ],
   "source": [
    "445.0/465.0"
   ]
  },
  {
   "cell_type": "code",
   "execution_count": 46,
   "metadata": {
    "collapsed": false
   },
   "outputs": [
    {
     "data": {
      "text/plain": [
       "6265.419903867012"
      ]
     },
     "execution_count": 46,
     "metadata": {},
     "output_type": "execute_result"
    }
   ],
   "source": [
    "24308.965591397849 - 2 * 9021.7728437654187"
   ]
  },
  {
   "cell_type": "code",
   "execution_count": 47,
   "metadata": {
    "collapsed": false
   },
   "outputs": [
    {
     "data": {
      "text/plain": [
       "42352.51127892869"
      ]
     },
     "execution_count": 47,
     "metadata": {},
     "output_type": "execute_result"
    }
   ],
   "source": [
    "24308.965591397849 + 2 * 9021.7728437654187"
   ]
  },
  {
   "cell_type": "markdown",
   "metadata": {},
   "source": [
    "The histogram clearly shows a peak at around $25,000 USD in income, which is well below the median US income of $51,939 USD (in 2013). In fact, one can quickly check that 74.8 percent of police killings took place in areas with median personal income between $15,287 and $33331, while 95.7 percent of killings took place in areas with median personal income between $6,265 and $42,353. This clearly shows that the overwhelming majority of police killings took place in low to low-middle income areas. "
   ]
  }
 ],
 "metadata": {
  "kernelspec": {
   "display_name": "Python 2",
   "language": "python",
   "name": "python2"
  },
  "language_info": {
   "codemirror_mode": {
    "name": "ipython",
    "version": 2
   },
   "file_extension": ".py",
   "mimetype": "text/x-python",
   "name": "python",
   "nbconvert_exporter": "python",
   "pygments_lexer": "ipython2",
   "version": "2.7.12"
  }
 },
 "nbformat": 4,
 "nbformat_minor": 0
}
